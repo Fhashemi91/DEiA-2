{
 "cells": [
  {
   "cell_type": "code",
   "execution_count": 1,
   "id": "31d3c3c1-5dc8-462e-b095-92270ec033fa",
   "metadata": {},
   "outputs": [],
   "source": [
    "import os\n",
    "from pathlib import Path"
   ]
  },
  {
   "cell_type": "code",
   "execution_count": 2,
   "id": "d961fbd9-042d-4573-89c2-36a581440a53",
   "metadata": {},
   "outputs": [],
   "source": [
    "from logzero import logger"
   ]
  },
  {
   "cell_type": "code",
   "execution_count": 3,
   "id": "fffb41d2-b30f-4049-8a27-808adbbc8fb3",
   "metadata": {},
   "outputs": [],
   "source": [
    "import geopandas as gpd\n",
    "import pandas as pd"
   ]
  },
  {
   "cell_type": "code",
   "execution_count": 4,
   "id": "739c5f85-1311-4bfb-84a8-a830638f72f5",
   "metadata": {},
   "outputs": [],
   "source": [
    "GEOJSONS = \"nl_osm_locations\""
   ]
  },
  {
   "cell_type": "code",
   "execution_count": 5,
   "id": "dd5db714-dde6-4e21-9e18-1ce9b977b6a0",
   "metadata": {},
   "outputs": [
    {
     "name": "stdout",
     "output_type": "stream",
     "text": [
      "ls: cannot access 'locations': No such file or directory\n"
     ]
    }
   ],
   "source": [
    "!ls locations"
   ]
  },
  {
   "cell_type": "code",
   "execution_count": 6,
   "id": "5db520a3-99e2-4638-a44c-e45e00826971",
   "metadata": {},
   "outputs": [
    {
     "data": {
      "text/plain": [
       "Index(['id', '@id', 'addr:city', 'addr:country', 'addr:housenumber',\n",
       "       'addr:postcode', 'addr:province', 'addr:street', 'addr:unit',\n",
       "       'after_school', 'alt_name', 'amenity', 'branch', 'building:levels',\n",
       "       'contact:email', 'contact:facebook', 'contact:phone', 'contact:twitter',\n",
       "       'contact:website', 'description', 'email', 'facebook', 'fee',\n",
       "       'internet_access', 'kindergarten', 'leisure', 'level', 'max_age',\n",
       "       'min_age', 'name', 'name:en', 'name:nl', 'name_1', 'name_2', 'name_3',\n",
       "       'note', 'nursery', 'old_name', 'opening_hours', 'operator',\n",
       "       'operator:type', 'payment:bitcoin', 'phone', 'phone:mobile',\n",
       "       'preschool', 'religion', 'social_facility', 'source', 'source:date',\n",
       "       'start_date', 'survey:date', 'telecom', 'url', 'website', 'wheelchair',\n",
       "       'geometry'],\n",
       "      dtype='object')"
      ]
     },
     "execution_count": 6,
     "metadata": {},
     "output_type": "execute_result"
    }
   ],
   "source": [
    "childcare = gpd.read_file(f'{GEOJSONS}/nl_childcare.geojson')\n",
    "childcare.columns"
   ]
  },
  {
   "cell_type": "code",
   "execution_count": 7,
   "id": "b20a4450-f3b1-4070-b7d2-f53ad3c38ea0",
   "metadata": {},
   "outputs": [
    {
     "data": {
      "text/plain": [
       "Index(['id', '@id', 'addr:city', 'addr:country', 'addr:housename',\n",
       "       'addr:housenumber', 'addr:postcode', 'addr:province', 'addr:street',\n",
       "       'addr:unit', 'alt_name', 'amenity', 'brand', 'brand:wikidata',\n",
       "       'brand:wikipedia', 'building', 'contact:email', 'contact:facebook',\n",
       "       'contact:instagram', 'contact:linkedin', 'contact:phone',\n",
       "       'contact:website', 'created_by', 'description', 'designation', 'email',\n",
       "       'facebook', 'image', 'internet_access', 'internet_access:fee',\n",
       "       'isced:level', 'layer', 'max_age', 'min_age', 'name', 'name:en',\n",
       "       'name:nl', 'note', 'official_name', 'opening_hours', 'operator',\n",
       "       'operator:type', 'phone', 'source', 'source:date', 'toilets:wheelchair',\n",
       "       'twitter', 'website', 'wheelchair', 'wheelchair:description',\n",
       "       'wikidata', 'wikipedia', 'geometry'],\n",
       "      dtype='object')"
      ]
     },
     "execution_count": 7,
     "metadata": {},
     "output_type": "execute_result"
    }
   ],
   "source": [
    "childcare = gpd.read_file(f'{GEOJSONS}/nl_college.geojson')\n",
    "childcare.columns"
   ]
  },
  {
   "cell_type": "markdown",
   "id": "3aabe413-ac47-49d7-a0d0-bafbc51742de",
   "metadata": {},
   "source": [
    "**Note**: The column names are inconsistent in data, so I'll create a function to extract unified data from all data frames an return a single union out of it to make it easier to work with. "
   ]
  },
  {
   "cell_type": "code",
   "execution_count": 8,
   "id": "d5bd7e4f-8d34-4783-80c9-f6de3fcc7527",
   "metadata": {},
   "outputs": [],
   "source": [
    "def read_geojson(\n",
    "    name, \n",
    "    path=GEOJSONS, \n",
    "    ext=\"geojson\",\n",
    "    columns=['id', 'name', 'addr:postcode', 'geometry'],\n",
    "    include_name=True,   # include a column containing the file name. Helps with future filtering.\n",
    "    skip_error=False\n",
    "):\n",
    "    file_path = os.path.join(path, f\"{name}.{ext}\")\n",
    "    try:\n",
    "        df = gpd.read_file(file_path)[columns]\n",
    "    except Exception as e:\n",
    "        if skip_error:\n",
    "            logger.warning(f\"failed to read: {file_path}\")\n",
    "            logger.warning(e)\n",
    "            return None\n",
    "        raise e\n",
    "\n",
    "    if include_name:\n",
    "        df['type'] = name\n",
    "    return df"
   ]
  },
  {
   "cell_type": "code",
   "execution_count": 9,
   "id": "c2305c0e-ce1b-41db-99a3-a10d99d4b74c",
   "metadata": {},
   "outputs": [],
   "source": [
    "def read_geojson_multi(names, *args, **kwargs):\n",
    "    dfs = [read_geojson(name, *args, **kwargs) for name in names]\n",
    "    return pd.concat(dfs, axis=0, ignore_index=True)"
   ]
  },
  {
   "cell_type": "code",
   "execution_count": 10,
   "id": "a5f4e4c8-42b3-4188-a5b5-513514c7aa4f",
   "metadata": {},
   "outputs": [
    {
     "data": {
      "text/plain": [
       "['nl_kindergarten',\n",
       " 'nl_childcare',\n",
       " 'nl_school',\n",
       " 'nl_college',\n",
       " 'nl_university',\n",
       " 'nl_nursing_house',\n",
       " 'nl_park',\n",
       " 'nl_gyms']"
      ]
     },
     "execution_count": 10,
     "metadata": {},
     "output_type": "execute_result"
    }
   ],
   "source": [
    "geojsons = [Path(i).stem for i in os.listdir(GEOJSONS)]\n",
    "geojsons"
   ]
  },
  {
   "cell_type": "code",
   "execution_count": 11,
   "id": "9d4fe2c7-6d9c-4f55-97d9-0de6f81584a1",
   "metadata": {},
   "outputs": [
    {
     "data": {
      "text/html": [
       "<div>\n",
       "<style scoped>\n",
       "    .dataframe tbody tr th:only-of-type {\n",
       "        vertical-align: middle;\n",
       "    }\n",
       "\n",
       "    .dataframe tbody tr th {\n",
       "        vertical-align: top;\n",
       "    }\n",
       "\n",
       "    .dataframe thead th {\n",
       "        text-align: right;\n",
       "    }\n",
       "</style>\n",
       "<table border=\"1\" class=\"dataframe\">\n",
       "  <thead>\n",
       "    <tr style=\"text-align: right;\">\n",
       "      <th></th>\n",
       "      <th>id</th>\n",
       "      <th>name</th>\n",
       "      <th>addr:postcode</th>\n",
       "      <th>geometry</th>\n",
       "      <th>type</th>\n",
       "    </tr>\n",
       "  </thead>\n",
       "  <tbody>\n",
       "    <tr>\n",
       "      <th>0</th>\n",
       "      <td>node/290848021</td>\n",
       "      <td>PSZ Het Hummelhonk</td>\n",
       "      <td>None</td>\n",
       "      <td>POINT (3.79618 51.22780)</td>\n",
       "      <td>nl_kindergarten</td>\n",
       "    </tr>\n",
       "    <tr>\n",
       "      <th>1</th>\n",
       "      <td>node/299240246</td>\n",
       "      <td>Mareland</td>\n",
       "      <td>None</td>\n",
       "      <td>POINT (4.49153 52.16506)</td>\n",
       "      <td>nl_kindergarten</td>\n",
       "    </tr>\n",
       "    <tr>\n",
       "      <th>2</th>\n",
       "      <td>node/304623674</td>\n",
       "      <td>Angela's Kroost</td>\n",
       "      <td>None</td>\n",
       "      <td>POINT (4.46853 52.19076)</td>\n",
       "      <td>nl_kindergarten</td>\n",
       "    </tr>\n",
       "    <tr>\n",
       "      <th>3</th>\n",
       "      <td>node/304626605</td>\n",
       "      <td>Het kindercircus</td>\n",
       "      <td>None</td>\n",
       "      <td>POINT (4.47969 52.19694)</td>\n",
       "      <td>nl_kindergarten</td>\n",
       "    </tr>\n",
       "    <tr>\n",
       "      <th>4</th>\n",
       "      <td>node/305501081</td>\n",
       "      <td>De Hobbit</td>\n",
       "      <td>5663ST</td>\n",
       "      <td>POINT (5.54686 51.41163)</td>\n",
       "      <td>nl_kindergarten</td>\n",
       "    </tr>\n",
       "    <tr>\n",
       "      <th>...</th>\n",
       "      <td>...</td>\n",
       "      <td>...</td>\n",
       "      <td>...</td>\n",
       "      <td>...</td>\n",
       "      <td>...</td>\n",
       "    </tr>\n",
       "    <tr>\n",
       "      <th>5445</th>\n",
       "      <td>node/9418182063</td>\n",
       "      <td>Fit-Now!</td>\n",
       "      <td>9231DX</td>\n",
       "      <td>POINT (6.17622 53.17208)</td>\n",
       "      <td>nl_gyms</td>\n",
       "    </tr>\n",
       "    <tr>\n",
       "      <th>5446</th>\n",
       "      <td>node/9452429013</td>\n",
       "      <td>Vikings gym</td>\n",
       "      <td>6431DH</td>\n",
       "      <td>POINT (5.92217 50.93254)</td>\n",
       "      <td>nl_gyms</td>\n",
       "    </tr>\n",
       "    <tr>\n",
       "      <th>5447</th>\n",
       "      <td>node/9452717476</td>\n",
       "      <td>CrossFit Hilversum - CrossFit &amp; Personal Training</td>\n",
       "      <td>1216SL</td>\n",
       "      <td>POINT (5.14585 52.21238)</td>\n",
       "      <td>nl_gyms</td>\n",
       "    </tr>\n",
       "    <tr>\n",
       "      <th>5448</th>\n",
       "      <td>node/9495450226</td>\n",
       "      <td>Dudok Gym</td>\n",
       "      <td>1217ET</td>\n",
       "      <td>POINT (5.16862 52.22747)</td>\n",
       "      <td>nl_gyms</td>\n",
       "    </tr>\n",
       "    <tr>\n",
       "      <th>5449</th>\n",
       "      <td>node/9507881252</td>\n",
       "      <td>Echt Sterk Crossfit</td>\n",
       "      <td>2272HW</td>\n",
       "      <td>POINT (4.36206 52.08481)</td>\n",
       "      <td>nl_gyms</td>\n",
       "    </tr>\n",
       "  </tbody>\n",
       "</table>\n",
       "<p>5450 rows × 5 columns</p>\n",
       "</div>"
      ],
      "text/plain": [
       "                   id                                               name  \\\n",
       "0      node/290848021                                 PSZ Het Hummelhonk   \n",
       "1      node/299240246                                           Mareland   \n",
       "2      node/304623674                                    Angela's Kroost   \n",
       "3      node/304626605                                   Het kindercircus   \n",
       "4      node/305501081                                          De Hobbit   \n",
       "...               ...                                                ...   \n",
       "5445  node/9418182063                                           Fit-Now!   \n",
       "5446  node/9452429013                                        Vikings gym   \n",
       "5447  node/9452717476  CrossFit Hilversum - CrossFit & Personal Training   \n",
       "5448  node/9495450226                                          Dudok Gym   \n",
       "5449  node/9507881252                                Echt Sterk Crossfit   \n",
       "\n",
       "     addr:postcode                  geometry             type  \n",
       "0             None  POINT (3.79618 51.22780)  nl_kindergarten  \n",
       "1             None  POINT (4.49153 52.16506)  nl_kindergarten  \n",
       "2             None  POINT (4.46853 52.19076)  nl_kindergarten  \n",
       "3             None  POINT (4.47969 52.19694)  nl_kindergarten  \n",
       "4           5663ST  POINT (5.54686 51.41163)  nl_kindergarten  \n",
       "...            ...                       ...              ...  \n",
       "5445        9231DX  POINT (6.17622 53.17208)          nl_gyms  \n",
       "5446        6431DH  POINT (5.92217 50.93254)          nl_gyms  \n",
       "5447        1216SL  POINT (5.14585 52.21238)          nl_gyms  \n",
       "5448        1217ET  POINT (5.16862 52.22747)          nl_gyms  \n",
       "5449        2272HW  POINT (4.36206 52.08481)          nl_gyms  \n",
       "\n",
       "[5450 rows x 5 columns]"
      ]
     },
     "execution_count": 11,
     "metadata": {},
     "output_type": "execute_result"
    }
   ],
   "source": [
    "df = read_geojson_multi(names=geojsons, skip_error=True)\n",
    "df"
   ]
  },
  {
   "cell_type": "markdown",
   "id": "5539f3e3-de86-4ca3-a31a-782fb2213bca",
   "metadata": {},
   "source": [
    "Extract `POINT` object:"
   ]
  },
  {
   "cell_type": "code",
   "execution_count": 17,
   "id": "7bfed2c0-f877-4d43-adf7-b11fddfbdb42",
   "metadata": {},
   "outputs": [
    {
     "data": {
      "text/html": [
       "<div>\n",
       "<style scoped>\n",
       "    .dataframe tbody tr th:only-of-type {\n",
       "        vertical-align: middle;\n",
       "    }\n",
       "\n",
       "    .dataframe tbody tr th {\n",
       "        vertical-align: top;\n",
       "    }\n",
       "\n",
       "    .dataframe thead th {\n",
       "        text-align: right;\n",
       "    }\n",
       "</style>\n",
       "<table border=\"1\" class=\"dataframe\">\n",
       "  <thead>\n",
       "    <tr style=\"text-align: right;\">\n",
       "      <th></th>\n",
       "      <th>id</th>\n",
       "      <th>name</th>\n",
       "      <th>addr:postcode</th>\n",
       "      <th>type</th>\n",
       "      <th>lat</th>\n",
       "      <th>lon</th>\n",
       "    </tr>\n",
       "  </thead>\n",
       "  <tbody>\n",
       "    <tr>\n",
       "      <th>0</th>\n",
       "      <td>node/290848021</td>\n",
       "      <td>PSZ Het Hummelhonk</td>\n",
       "      <td>None</td>\n",
       "      <td>nl_kindergarten</td>\n",
       "      <td>3.796176</td>\n",
       "      <td>51.227796</td>\n",
       "    </tr>\n",
       "    <tr>\n",
       "      <th>1</th>\n",
       "      <td>node/299240246</td>\n",
       "      <td>Mareland</td>\n",
       "      <td>None</td>\n",
       "      <td>nl_kindergarten</td>\n",
       "      <td>4.491535</td>\n",
       "      <td>52.165060</td>\n",
       "    </tr>\n",
       "    <tr>\n",
       "      <th>2</th>\n",
       "      <td>node/304623674</td>\n",
       "      <td>Angela's Kroost</td>\n",
       "      <td>None</td>\n",
       "      <td>nl_kindergarten</td>\n",
       "      <td>4.468531</td>\n",
       "      <td>52.190755</td>\n",
       "    </tr>\n",
       "    <tr>\n",
       "      <th>3</th>\n",
       "      <td>node/304626605</td>\n",
       "      <td>Het kindercircus</td>\n",
       "      <td>None</td>\n",
       "      <td>nl_kindergarten</td>\n",
       "      <td>4.479686</td>\n",
       "      <td>52.196943</td>\n",
       "    </tr>\n",
       "    <tr>\n",
       "      <th>4</th>\n",
       "      <td>node/305501081</td>\n",
       "      <td>De Hobbit</td>\n",
       "      <td>5663ST</td>\n",
       "      <td>nl_kindergarten</td>\n",
       "      <td>5.546865</td>\n",
       "      <td>51.411625</td>\n",
       "    </tr>\n",
       "    <tr>\n",
       "      <th>...</th>\n",
       "      <td>...</td>\n",
       "      <td>...</td>\n",
       "      <td>...</td>\n",
       "      <td>...</td>\n",
       "      <td>...</td>\n",
       "      <td>...</td>\n",
       "    </tr>\n",
       "    <tr>\n",
       "      <th>5445</th>\n",
       "      <td>node/9418182063</td>\n",
       "      <td>Fit-Now!</td>\n",
       "      <td>9231DX</td>\n",
       "      <td>nl_gyms</td>\n",
       "      <td>6.176224</td>\n",
       "      <td>53.172076</td>\n",
       "    </tr>\n",
       "    <tr>\n",
       "      <th>5446</th>\n",
       "      <td>node/9452429013</td>\n",
       "      <td>Vikings gym</td>\n",
       "      <td>6431DH</td>\n",
       "      <td>nl_gyms</td>\n",
       "      <td>5.922174</td>\n",
       "      <td>50.932541</td>\n",
       "    </tr>\n",
       "    <tr>\n",
       "      <th>5447</th>\n",
       "      <td>node/9452717476</td>\n",
       "      <td>CrossFit Hilversum - CrossFit &amp; Personal Training</td>\n",
       "      <td>1216SL</td>\n",
       "      <td>nl_gyms</td>\n",
       "      <td>5.145847</td>\n",
       "      <td>52.212379</td>\n",
       "    </tr>\n",
       "    <tr>\n",
       "      <th>5448</th>\n",
       "      <td>node/9495450226</td>\n",
       "      <td>Dudok Gym</td>\n",
       "      <td>1217ET</td>\n",
       "      <td>nl_gyms</td>\n",
       "      <td>5.168618</td>\n",
       "      <td>52.227471</td>\n",
       "    </tr>\n",
       "    <tr>\n",
       "      <th>5449</th>\n",
       "      <td>node/9507881252</td>\n",
       "      <td>Echt Sterk Crossfit</td>\n",
       "      <td>2272HW</td>\n",
       "      <td>nl_gyms</td>\n",
       "      <td>4.362064</td>\n",
       "      <td>52.084814</td>\n",
       "    </tr>\n",
       "  </tbody>\n",
       "</table>\n",
       "<p>5450 rows × 6 columns</p>\n",
       "</div>"
      ],
      "text/plain": [
       "                   id                                               name  \\\n",
       "0      node/290848021                                 PSZ Het Hummelhonk   \n",
       "1      node/299240246                                           Mareland   \n",
       "2      node/304623674                                    Angela's Kroost   \n",
       "3      node/304626605                                   Het kindercircus   \n",
       "4      node/305501081                                          De Hobbit   \n",
       "...               ...                                                ...   \n",
       "5445  node/9418182063                                           Fit-Now!   \n",
       "5446  node/9452429013                                        Vikings gym   \n",
       "5447  node/9452717476  CrossFit Hilversum - CrossFit & Personal Training   \n",
       "5448  node/9495450226                                          Dudok Gym   \n",
       "5449  node/9507881252                                Echt Sterk Crossfit   \n",
       "\n",
       "     addr:postcode             type       lat        lon  \n",
       "0             None  nl_kindergarten  3.796176  51.227796  \n",
       "1             None  nl_kindergarten  4.491535  52.165060  \n",
       "2             None  nl_kindergarten  4.468531  52.190755  \n",
       "3             None  nl_kindergarten  4.479686  52.196943  \n",
       "4           5663ST  nl_kindergarten  5.546865  51.411625  \n",
       "...            ...              ...       ...        ...  \n",
       "5445        9231DX          nl_gyms  6.176224  53.172076  \n",
       "5446        6431DH          nl_gyms  5.922174  50.932541  \n",
       "5447        1216SL          nl_gyms  5.145847  52.212379  \n",
       "5448        1217ET          nl_gyms  5.168618  52.227471  \n",
       "5449        2272HW          nl_gyms  4.362064  52.084814  \n",
       "\n",
       "[5450 rows x 6 columns]"
      ]
     },
     "execution_count": 17,
     "metadata": {},
     "output_type": "execute_result"
    }
   ],
   "source": [
    "df['lat'] = df['geometry'].x\n",
    "df['lon'] = df['geometry'].y\n",
    "df = df.drop(columns=['geometry'])\n",
    "df"
   ]
  },
  {
   "cell_type": "code",
   "execution_count": 12,
   "id": "e4474009-4e0b-49f6-898e-219e6d980bd2",
   "metadata": {},
   "outputs": [],
   "source": [
    "df.to_csv(\"nl_osm_locations.csv\")"
   ]
  }
 ],
 "metadata": {
  "kernelspec": {
   "display_name": "Python 3 (ipykernel)",
   "language": "python",
   "name": "python3"
  },
  "language_info": {
   "codemirror_mode": {
    "name": "ipython",
    "version": 3
   },
   "file_extension": ".py",
   "mimetype": "text/x-python",
   "name": "python",
   "nbconvert_exporter": "python",
   "pygments_lexer": "ipython3",
   "version": "3.10.1"
  }
 },
 "nbformat": 4,
 "nbformat_minor": 5
}
